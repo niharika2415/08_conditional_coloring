{
  "nbformat": 4,
  "nbformat_minor": 0,
  "metadata": {
    "colab": {
      "provenance": []
    },
    "kernelspec": {
      "name": "python3",
      "display_name": "Python 3"
    },
    "language_info": {
      "name": "python"
    }
  },
  "cells": [
    {
      "cell_type": "code",
      "execution_count": 1,
      "metadata": {
        "id": "leMzDlKNAZ8p"
      },
      "outputs": [],
      "source": [
        "import tensorflow as tf\n",
        "from tensorflow.keras.layers import Conv2D, UpSampling2D, Input, Concatenate\n",
        "from tensorflow.keras.models import Model\n",
        "import numpy as np\n",
        "import matplotlib.pyplot as plt\n",
        "# Please run this cell first to import the necessary libraries."
      ]
    },
    {
      "cell_type": "code",
      "source": [
        "IMG_SIZE = 128\n",
        "\n",
        "def preprocess_input(image, target):\n",
        "    # Resize grayscale input\n",
        "    image = tf.image.resize(image, (IMG_SIZE, IMG_SIZE))\n",
        "    # Resize target color image\n",
        "    target = tf.image.resize(target, (IMG_SIZE, IMG_SIZE))\n",
        "    return image, target\n",
        "\n",
        "# Load CIFAR-10\n",
        "(x_train, _), (x_test, _) = tf.keras.datasets.cifar10.load_data()\n",
        "x_train = x_train.astype(\"float32\") / 255.0\n",
        "x_test = x_test.astype(\"float32\") / 255.0\n",
        "\n",
        "# Convert to grayscale\n",
        "x_train_gray = tf.image.rgb_to_grayscale(x_train)\n",
        "x_test_gray = tf.image.rgb_to_grayscale(x_test)\n",
        "\n",
        "# Build tf.data pipelines\n",
        "train_ds = tf.data.Dataset.from_tensor_slices((x_train_gray, x_train))\n",
        "train_ds = train_ds.map(preprocess_input).shuffle(1000).batch(32).prefetch(tf.data.AUTOTUNE)\n",
        "\n",
        "test_ds = tf.data.Dataset.from_tensor_slices((x_test_gray, x_test))\n",
        "test_ds = test_ds.map(preprocess_input).batch(32).prefetch(tf.data.AUTOTUNE)"
      ],
      "metadata": {
        "colab": {
          "base_uri": "https://localhost:8080/"
        },
        "id": "N_WAl6e9AggL",
        "outputId": "2902046f-e06f-40aa-9061-e62dd0e872b3"
      },
      "execution_count": 2,
      "outputs": [
        {
          "output_type": "stream",
          "name": "stdout",
          "text": [
            "Downloading data from https://www.cs.toronto.edu/~kriz/cifar-10-python.tar.gz\n",
            "\u001b[1m170498071/170498071\u001b[0m \u001b[32m━━━━━━━━━━━━━━━━━━━━\u001b[0m\u001b[37m\u001b[0m \u001b[1m13s\u001b[0m 0us/step\n"
          ]
        }
      ]
    },
    {
      "cell_type": "code",
      "source": [
        "# Simulate conditional hints\n",
        "def add_random_hint(grayscale, color):\n",
        "    \"\"\"\n",
        "    Returns:\n",
        "    input_with_hint: (H,W,3) -> grayscale + mask + color_hint\n",
        "    \"\"\"\n",
        "    H, W, _ = color.shape\n",
        "    mask = np.zeros((H, W, 1), dtype=np.float32)\n",
        "    hint = np.zeros_like(color, dtype=np.float32)\n",
        "\n",
        "    # Random rectangle as hint region\n",
        "    h_start = np.random.randint(0, H//2)\n",
        "    h_end = h_start + np.random.randint(H//4, H//2)\n",
        "    w_start = np.random.randint(0, W//2)\n",
        "    w_end = w_start + np.random.randint(W//4, W//2)\n",
        "\n",
        "    mask[h_start:h_end, w_start:w_end, 0] = 1.0\n",
        "    hint[h_start:h_end, w_start:w_end, :] = color[h_start:h_end, w_start:w_end, :]\n",
        "\n",
        "    # Concatenate grayscale + mask + hint\n",
        "    input_with_hint = np.concatenate([grayscale, mask, hint], axis=-1)\n",
        "    return input_with_hint\n",
        "\n",
        "# Apply to train/test datasets\n",
        "x_train_input = np.array([add_random_hint(x_train_gray[i], x_train[i]) for i in range(len(x_train_gray))])\n",
        "x_test_input = np.array([add_random_hint(x_test_gray[i], x_test[i]) for i in range(len(x_test_gray))])\n",
        "\n",
        "# New input shape for model\n",
        "input_shape = x_train_input.shape[1:]  # (128,128,5)"
      ],
      "metadata": {
        "id": "KsgDKno_OCsC"
      },
      "execution_count": 9,
      "outputs": []
    },
    {
      "cell_type": "code",
      "source": [
        "inputs = Input(shape=input_shape)\n",
        "\n",
        "\n",
        "x = Conv2D(64, (3,3), activation='relu', padding='same')(inputs)\n",
        "x = Conv2D(128, (3,3), activation='relu', padding='same')(x)\n",
        "outputs = Conv2D(3, (3,3), activation='sigmoid', padding='same')(x)\n",
        "\n",
        "\n",
        "model = Model(inputs, outputs)\n",
        "model.compile(optimizer='adam', loss='mse')"
      ],
      "metadata": {
        "id": "_QBy5wqAAn5b"
      },
      "execution_count": 10,
      "outputs": []
    },
    {
      "cell_type": "code",
      "source": [
        "model.fit(x_train_input, x_train, validation_data=(x_test_input, x_test), epochs=10, batch_size=32)"
      ],
      "metadata": {
        "id": "Mafih6mhA4Lm",
        "colab": {
          "base_uri": "https://localhost:8080/"
        },
        "outputId": "fe574cc3-48c0-4a46-b7e1-c03a7f4d463e"
      },
      "execution_count": 11,
      "outputs": [
        {
          "output_type": "stream",
          "name": "stdout",
          "text": [
            "Epoch 1/10\n",
            "\u001b[1m1563/1563\u001b[0m \u001b[32m━━━━━━━━━━━━━━━━━━━━\u001b[0m\u001b[37m\u001b[0m \u001b[1m16s\u001b[0m 9ms/step - loss: 0.0098 - val_loss: 0.0055\n",
            "Epoch 2/10\n",
            "\u001b[1m1563/1563\u001b[0m \u001b[32m━━━━━━━━━━━━━━━━━━━━\u001b[0m\u001b[37m\u001b[0m \u001b[1m10s\u001b[0m 7ms/step - loss: 0.0048 - val_loss: 0.0047\n",
            "Epoch 3/10\n",
            "\u001b[1m1563/1563\u001b[0m \u001b[32m━━━━━━━━━━━━━━━━━━━━\u001b[0m\u001b[37m\u001b[0m \u001b[1m10s\u001b[0m 7ms/step - loss: 0.0046 - val_loss: 0.0045\n",
            "Epoch 4/10\n",
            "\u001b[1m1563/1563\u001b[0m \u001b[32m━━━━━━━━━━━━━━━━━━━━\u001b[0m\u001b[37m\u001b[0m \u001b[1m11s\u001b[0m 7ms/step - loss: 0.0045 - val_loss: 0.0044\n",
            "Epoch 5/10\n",
            "\u001b[1m1563/1563\u001b[0m \u001b[32m━━━━━━━━━━━━━━━━━━━━\u001b[0m\u001b[37m\u001b[0m \u001b[1m11s\u001b[0m 7ms/step - loss: 0.0045 - val_loss: 0.0044\n",
            "Epoch 6/10\n",
            "\u001b[1m1563/1563\u001b[0m \u001b[32m━━━━━━━━━━━━━━━━━━━━\u001b[0m\u001b[37m\u001b[0m \u001b[1m11s\u001b[0m 7ms/step - loss: 0.0045 - val_loss: 0.0043\n",
            "Epoch 7/10\n",
            "\u001b[1m1563/1563\u001b[0m \u001b[32m━━━━━━━━━━━━━━━━━━━━\u001b[0m\u001b[37m\u001b[0m \u001b[1m11s\u001b[0m 7ms/step - loss: 0.0044 - val_loss: 0.0042\n",
            "Epoch 8/10\n",
            "\u001b[1m1563/1563\u001b[0m \u001b[32m━━━━━━━━━━━━━━━━━━━━\u001b[0m\u001b[37m\u001b[0m \u001b[1m11s\u001b[0m 7ms/step - loss: 0.0044 - val_loss: 0.0043\n",
            "Epoch 9/10\n",
            "\u001b[1m1563/1563\u001b[0m \u001b[32m━━━━━━━━━━━━━━━━━━━━\u001b[0m\u001b[37m\u001b[0m \u001b[1m11s\u001b[0m 7ms/step - loss: 0.0043 - val_loss: 0.0042\n",
            "Epoch 10/10\n",
            "\u001b[1m1563/1563\u001b[0m \u001b[32m━━━━━━━━━━━━━━━━━━━━\u001b[0m\u001b[37m\u001b[0m \u001b[1m20s\u001b[0m 7ms/step - loss: 0.0043 - val_loss: 0.0042\n"
          ]
        },
        {
          "output_type": "execute_result",
          "data": {
            "text/plain": [
              "<keras.src.callbacks.history.History at 0x7c1b9e52fc20>"
            ]
          },
          "metadata": {},
          "execution_count": 11
        }
      ]
    },
    {
      "cell_type": "code",
      "source": [
        "# Save model\n",
        "model.save(\"/content/drive/MyDrive/08_condition_color/colorizer_model.h5\")"
      ],
      "metadata": {
        "id": "EQAgXtoNA4nX",
        "colab": {
          "base_uri": "https://localhost:8080/"
        },
        "outputId": "2b7e73e6-ab8e-4d96-b7a4-65a08c864538"
      },
      "execution_count": 13,
      "outputs": [
        {
          "output_type": "stream",
          "name": "stderr",
          "text": [
            "WARNING:absl:You are saving your model as an HDF5 file via `model.save()` or `keras.saving.save_model(model)`. This file format is considered legacy. We recommend using instead the native Keras format, e.g. `model.save('my_model.keras')` or `keras.saving.save_model(model, 'my_model.keras')`. \n"
          ]
        }
      ]
    },
    {
      "cell_type": "code",
      "source": [
        "# Convert to NumPy for plotting\n",
        "grayscale_np = grayscale.numpy()  # shape (32,32,1)\n",
        "\n",
        "plt.figure(figsize=(12,4))\n",
        "\n",
        "plt.subplot(1,3,1)\n",
        "plt.title(\"Grayscale\")\n",
        "plt.imshow(np.squeeze(grayscale_np), cmap='gray')  # now works\n",
        "\n",
        "plt.subplot(1,3,2)\n",
        "plt.title(\"Generated\")\n",
        "plt.imshow(colorized[0])\n",
        "\n",
        "plt.subplot(1,3,3)\n",
        "plt.title(\"Original\")\n",
        "plt.imshow(x_test[idx])\n",
        "plt.show()\n"
      ],
      "metadata": {
        "colab": {
          "base_uri": "https://localhost:8080/",
          "height": 356
        },
        "id": "pxDbaLCgK_UY",
        "outputId": "b0b3d929-8da8-42dd-c9fd-9f6f0443b37e"
      },
      "execution_count": 15,
      "outputs": [
        {
          "output_type": "display_data",
          "data": {
            "text/plain": [
              "<Figure size 1200x400 with 3 Axes>"
            ],
            "image/png": "[encoded data removed]"
          },
          "metadata": {}
        }
      ]
    },
    {
      "cell_type": "code",
      "source": [],
      "metadata": {
        "id": "AkaI3o_eLSQ-"
      },
      "execution_count": null,
      "outputs": []
    }
  ]
}